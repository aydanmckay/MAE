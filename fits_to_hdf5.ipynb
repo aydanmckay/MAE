{
 "cells": [
  {
   "cell_type": "markdown",
   "id": "68d6ff70-d455-4f9c-a6c1-d14a8b47c829",
   "metadata": {
    "tags": []
   },
   "source": [
    "### Preparing the data in HDF5 Formatting\n",
    "Switching the .fits file to an HDF5 for better storage management and mainly practice"
   ]
  },
  {
   "cell_type": "markdown",
   "id": "7d43e9cf-061d-42dc-a21c-7e8a119e2e3f",
   "metadata": {
    "tags": []
   },
   "source": [
    "Importing the appropriate packages."
   ]
  },
  {
   "cell_type": "code",
   "execution_count": 1,
   "id": "0f53ab21-e249-4b49-b746-6ad2a5d2d20f",
   "metadata": {},
   "outputs": [],
   "source": [
    "from astropy.table import Table\n",
    "from astropy.io import fits\n",
    "import numpy as np\n",
    "from sklearn.model_selection import train_test_split\n",
    "import pandas as pd\n",
    "import h5py\n",
    "from sklearn.preprocessing import MinMaxScaler"
   ]
  },
  {
   "cell_type": "code",
   "execution_count": 2,
   "id": "8c8c3405-9409-4188-a894-799384ac4ea0",
   "metadata": {},
   "outputs": [],
   "source": [
    "data = Table.read('/arc/home/aydanmckay/gaiahike/bp_rp_lamost_pristine.fits').to_pandas()"
   ]
  },
  {
   "cell_type": "code",
   "execution_count": 3,
   "id": "e4366815-6ab9-4b24-a20d-57cf99b87c00",
   "metadata": {},
   "outputs": [
    {
     "data": {
      "text/plain": [
       "(721171, 241)"
      ]
     },
     "execution_count": 3,
     "metadata": {},
     "output_type": "execute_result"
    }
   ],
   "source": [
    "data.shape"
   ]
  },
  {
   "cell_type": "code",
   "execution_count": 4,
   "id": "a8e900f1-909f-406d-870e-6266bdd8df3e",
   "metadata": {},
   "outputs": [
    {
     "name": "stdout",
     "output_type": "stream",
     "text": [
      "<class 'pandas.core.frame.DataFrame'>\n",
      "RangeIndex: 721171 entries, 0 to 721170\n",
      "Columns: 241 entries, CaHK to rpe_55\n",
      "dtypes: float32(124), float64(114), int16(1), int64(2)\n",
      "memory usage: 980.7 MB\n"
     ]
    }
   ],
   "source": [
    "data.info()"
   ]
  },
  {
   "cell_type": "code",
   "execution_count": 5,
   "id": "517ebfde-2b9a-4007-891b-6977b0044fc6",
   "metadata": {},
   "outputs": [
    {
     "data": {
      "text/plain": [
       "(721158, 241)"
      ]
     },
     "execution_count": 5,
     "metadata": {},
     "output_type": "execute_result"
    }
   ],
   "source": [
    "with pd.option_context('mode.use_inf_as_na', True):\n",
    "    data.dropna(inplace=True)\n",
    "data.shape"
   ]
  },
  {
   "cell_type": "code",
   "execution_count": 6,
   "id": "084de51d-0c5d-4695-a64f-0a1ca2c80f60",
   "metadata": {
    "tags": []
   },
   "outputs": [
    {
     "name": "stdout",
     "output_type": "stream",
     "text": [
      "['CaHK', 'CaHKerr', 'Flag', 'EBV_1', 'source_id_1', 'RA_1', 'DEC_1', 'Gmag', 'BPmag', 'RPmag', 'FeHphot_gen', 'FeHphot_dwarf', 'FeHphot_giant', 'feh', 'ebv_2', 'phot_g_mean_mag', 'source_id_2', 'teff', 'logg', 'ra_2', 'dec_2', 'bp_1', 'bp_2', 'bp_3', 'bp_4', 'bp_5', 'bp_6', 'bp_7', 'bp_8', 'bp_9', 'bp_10', 'bp_11', 'bp_12', 'bp_13', 'bp_14', 'bp_15', 'bp_16', 'bp_17', 'bp_18', 'bp_19', 'bp_20', 'bp_21', 'bp_22', 'bp_23', 'bp_24', 'bp_25', 'bp_26', 'bp_27', 'bp_28', 'bp_29', 'bp_30', 'bp_31', 'bp_32', 'bp_33', 'bp_34', 'bp_35', 'bp_36', 'bp_37', 'bp_38', 'bp_39', 'bp_40', 'bp_41', 'bp_42', 'bp_43', 'bp_44', 'bp_45', 'bp_46', 'bp_47', 'bp_48', 'bp_49', 'bp_50', 'bp_51', 'bp_52', 'bp_53', 'bp_54', 'bp_55', 'rp_1', 'rp_2', 'rp_3', 'rp_4', 'rp_5', 'rp_6', 'rp_7', 'rp_8', 'rp_9', 'rp_10', 'rp_11', 'rp_12', 'rp_13', 'rp_14', 'rp_15', 'rp_16', 'rp_17', 'rp_18', 'rp_19', 'rp_20', 'rp_21', 'rp_22', 'rp_23', 'rp_24', 'rp_25', 'rp_26', 'rp_27', 'rp_28', 'rp_29', 'rp_30', 'rp_31', 'rp_32', 'rp_33', 'rp_34', 'rp_35', 'rp_36', 'rp_37', 'rp_38', 'rp_39', 'rp_40', 'rp_41', 'rp_42', 'rp_43', 'rp_44', 'rp_45', 'rp_46', 'rp_47', 'rp_48', 'rp_49', 'rp_50', 'rp_51', 'rp_52', 'rp_53', 'rp_54', 'rp_55', 'bpe_1', 'bpe_2', 'bpe_3', 'bpe_4', 'bpe_5', 'bpe_6', 'bpe_7', 'bpe_8', 'bpe_9', 'bpe_10', 'bpe_11', 'bpe_12', 'bpe_13', 'bpe_14', 'bpe_15', 'bpe_16', 'bpe_17', 'bpe_18', 'bpe_19', 'bpe_20', 'bpe_21', 'bpe_22', 'bpe_23', 'bpe_24', 'bpe_25', 'bpe_26', 'bpe_27', 'bpe_28', 'bpe_29', 'bpe_30', 'bpe_31', 'bpe_32', 'bpe_33', 'bpe_34', 'bpe_35', 'bpe_36', 'bpe_37', 'bpe_38', 'bpe_39', 'bpe_40', 'bpe_41', 'bpe_42', 'bpe_43', 'bpe_44', 'bpe_45', 'bpe_46', 'bpe_47', 'bpe_48', 'bpe_49', 'bpe_50', 'bpe_51', 'bpe_52', 'bpe_53', 'bpe_54', 'bpe_55', 'rpe_1', 'rpe_2', 'rpe_3', 'rpe_4', 'rpe_5', 'rpe_6', 'rpe_7', 'rpe_8', 'rpe_9', 'rpe_10', 'rpe_11', 'rpe_12', 'rpe_13', 'rpe_14', 'rpe_15', 'rpe_16', 'rpe_17', 'rpe_18', 'rpe_19', 'rpe_20', 'rpe_21', 'rpe_22', 'rpe_23', 'rpe_24', 'rpe_25', 'rpe_26', 'rpe_27', 'rpe_28', 'rpe_29', 'rpe_30', 'rpe_31', 'rpe_32', 'rpe_33', 'rpe_34', 'rpe_35', 'rpe_36', 'rpe_37', 'rpe_38', 'rpe_39', 'rpe_40', 'rpe_41', 'rpe_42', 'rpe_43', 'rpe_44', 'rpe_45', 'rpe_46', 'rpe_47', 'rpe_48', 'rpe_49', 'rpe_50', 'rpe_51', 'rpe_52', 'rpe_53', 'rpe_54', 'rpe_55']\n"
     ]
    }
   ],
   "source": [
    "print([dat for dat in data.columns])"
   ]
  },
  {
   "cell_type": "code",
   "execution_count": 7,
   "id": "6c45ecbd-b1a2-46fa-be18-ff47ad2c8466",
   "metadata": {},
   "outputs": [],
   "source": [
    "labels = [\"bp_1\", \"bp_2\", \"bp_3\", \"bp_4\", \"bp_5\", \"bp_6\", \"bp_7\",\n",
    "          \"bp_8\", \"bp_9\", \"bp_10\", \"bp_11\", \"bp_12\", \"bp_13\", \"bp_14\",\n",
    "          \"bp_15\", \"bp_16\", \"bp_17\", \"bp_18\", \"bp_19\", \"bp_20\", \"bp_21\",\n",
    "          \"bp_22\", \"bp_23\", \"bp_24\", \"bp_25\", \"bp_26\", \"bp_27\", \"bp_28\",\n",
    "          \"bp_29\", \"bp_30\", \"bp_31\", \"bp_32\", \"bp_33\", \"bp_34\", \"bp_35\",\n",
    "          \"bp_36\", \"bp_37\", \"bp_38\", \"bp_39\", \"bp_40\", \"bp_41\", \"bp_42\",\n",
    "          \"bp_43\", \"bp_44\", \"bp_45\", \"bp_46\", \"bp_47\", \"bp_48\", \"bp_49\",\n",
    "          \"bp_50\", \"bp_51\", \"bp_52\", \"bp_53\", \"bp_54\", \"bp_55\", \"rp_1\",\n",
    "          \"rp_2\", \"rp_3\", \"rp_4\", \"rp_5\", \"rp_6\", \"rp_7\", \"rp_8\",\n",
    "          \"rp_9\", \"rp_10\", \"rp_11\", \"rp_12\", \"rp_13\", \"rp_14\", \"rp_15\",\n",
    "          \"rp_16\", \"rp_17\", \"rp_18\", \"rp_19\", \"rp_20\", \"rp_21\", \"rp_22\",\n",
    "          \"rp_23\", \"rp_24\", \"rp_25\", \"rp_26\", \"rp_27\", \"rp_28\", \"rp_29\",\n",
    "          \"rp_30\", \"rp_31\", \"rp_32\", \"rp_33\", \"rp_34\", \"rp_35\", \"rp_36\",\n",
    "          \"rp_37\", \"rp_38\", \"rp_39\", \"rp_40\", \"rp_41\", \"rp_42\", \"rp_43\",\n",
    "          \"rp_44\", \"rp_45\", \"rp_46\", \"rp_47\", \"rp_48\", \"rp_49\", \"rp_50\",\n",
    "          \"rp_51\", \"rp_52\", \"rp_53\", \"rp_54\", \"rp_55\"]\n",
    "elabels = [\"bpe_1\", \"bpe_2\", \"bpe_3\", \"bpe_4\", \"bpe_5\", \"bpe_6\", \"bpe_7\",\n",
    "          \"bpe_8\", \"bpe_9\", \"bpe_10\", \"bpe_11\", \"bpe_12\", \"bpe_13\", \"bpe_14\",\n",
    "          \"bpe_15\", \"bpe_16\", \"bpe_17\", \"bpe_18\", \"bpe_19\", \"bpe_20\", \"bpe_21\",\n",
    "          \"bpe_22\", \"bpe_23\", \"bpe_24\", \"bpe_25\", \"bpe_26\", \"bpe_27\", \"bpe_28\",\n",
    "          \"bpe_29\", \"bpe_30\", \"bpe_31\", \"bpe_32\", \"bpe_33\", \"bpe_34\", \"bpe_35\",\n",
    "          \"bpe_36\", \"bpe_37\", \"bpe_38\", \"bpe_39\", \"bpe_40\", \"bpe_41\", \"bpe_42\",\n",
    "          \"bpe_43\", \"bpe_44\", \"bpe_45\", \"bpe_46\", \"bpe_47\", \"bpe_48\", \"bpe_49\",\n",
    "          \"bpe_50\", \"bpe_51\", \"bpe_52\", \"bpe_53\", \"bpe_54\", \"bpe_55\", \"rpe_1\",\n",
    "          \"rpe_2\", \"rpe_3\", \"rpe_4\", \"rpe_5\", \"rpe_6\", \"rpe_7\", \"rpe_8\",\n",
    "          \"rpe_9\", \"rpe_10\", \"rpe_11\", \"rpe_12\", \"rpe_13\", \"rpe_14\", \"rpe_15\",\n",
    "          \"rpe_16\", \"rpe_17\", \"rpe_18\", \"rpe_19\", \"rpe_20\", \"rpe_21\", \"rpe_22\",\n",
    "          \"rpe_23\", \"rpe_24\", \"rpe_25\", \"rpe_26\", \"rpe_27\", \"rpe_28\", \"rpe_29\",\n",
    "          \"rpe_30\", \"rpe_31\", \"rpe_32\", \"rpe_33\", \"rpe_34\", \"rpe_35\", \"rpe_36\",\n",
    "          \"rpe_37\", \"rpe_38\", \"rpe_39\", \"rpe_40\", \"rpe_41\", \"rpe_42\", \"rpe_43\",\n",
    "          \"rpe_44\", \"rpe_45\", \"rpe_46\", \"rpe_47\", \"rpe_48\", \"rpe_49\", \"rpe_50\",\n",
    "          \"rpe_51\", \"rpe_52\", \"rpe_53\", \"rpe_54\", \"rpe_55\"]"
   ]
  },
  {
   "cell_type": "code",
   "execution_count": 8,
   "id": "39cb2a67-849f-45b9-8204-6677a7369de7",
   "metadata": {},
   "outputs": [],
   "source": [
    "feh = data['feh'] # lamost\n",
    "teff = data['teff'] # lamost\n",
    "logg = data['logg'] # lamost\n",
    "mag_labels = ['CaHK', 'phot_g_mean_mag', 'BPmag', 'RPmag'] # capital letters are from pristine, Gmag also available\n",
    "scale = data['phot_g_mean_mag']\n",
    "mags = np.array([data[label] for label in mag_labels])\n",
    "dust = data['EBV_1'] # this is pristine, ebv_2 for pre_matched\n",
    "dist = np.array([np.nan for _ in range(len(data['CaHK']))])\n",
    "xp = []\n",
    "xpe = []\n",
    "for elabel,label in zip(elabels,labels):\n",
    "    xp.append(data[label])\n",
    "    xpe.append(data[elabel])\n",
    "xp = np.array(xp)\n",
    "xpe = np.array(xpe)"
   ]
  },
  {
   "cell_type": "code",
   "execution_count": 9,
   "id": "0048ad73-fb96-4189-9d04-00019af2c2fe",
   "metadata": {},
   "outputs": [
    {
     "data": {
      "text/plain": [
       "(721158, 110)"
      ]
     },
     "execution_count": 9,
     "metadata": {},
     "output_type": "execute_result"
    }
   ],
   "source": [
    "xp.T.shape"
   ]
  },
  {
   "cell_type": "code",
   "execution_count": 19,
   "id": "fd9a43b0-49e9-432d-b545-458acdebfaf2",
   "metadata": {
    "tags": []
   },
   "outputs": [
    {
     "data": {
      "text/plain": [
       "14.721165"
      ]
     },
     "execution_count": 19,
     "metadata": {},
     "output_type": "execute_result"
    }
   ],
   "source": [
    "np.mean(scale)"
   ]
  },
  {
   "cell_type": "code",
   "execution_count": 10,
   "id": "05e4b6e5-51f7-4348-927d-582bf9db1ee2",
   "metadata": {},
   "outputs": [],
   "source": [
    "mag_train, mag_test, feh_train, feh_test, teff_train, \\\n",
    "teff_test, logg_train, logg_test, xp_train, xp_test, \\\n",
    "xpe_train, xpe_test, dust_train, dust_test, dist_train, \\\n",
    "dist_test = train_test_split(\n",
    "    mags.T,\n",
    "    feh,\n",
    "    teff,\n",
    "    logg,\n",
    "    xp.T,\n",
    "    xpe.T,\n",
    "    dust,\n",
    "    # dist,\n",
    "    scale,\n",
    "    test_size=0.1,\n",
    "    random_state=42\n",
    ")"
   ]
  },
  {
   "cell_type": "code",
   "execution_count": 11,
   "id": "da3679b7-7c82-4f75-a60f-864bb6988e52",
   "metadata": {},
   "outputs": [],
   "source": [
    "mag_train, mag_valid, feh_train, feh_valid, teff_train, \\\n",
    "teff_valid, logg_train, logg_valid, xp_train, xp_valid, \\\n",
    "xpe_train, xpe_valid, dust_train, dust_valid, dist_train, \\\n",
    "dist_valid = train_test_split(\n",
    "    mag_train,\n",
    "    feh_train,\n",
    "    teff_train,\n",
    "    logg_train,\n",
    "    xp_train,\n",
    "    xpe_train,\n",
    "    dust_train,\n",
    "    dist_train,\n",
    "    test_size=0.1,\n",
    "    random_state=42\n",
    ")"
   ]
  },
  {
   "cell_type": "code",
   "execution_count": 12,
   "id": "5b1259b8-17ee-4992-98a6-386104c509fc",
   "metadata": {},
   "outputs": [
    {
     "data": {
      "text/plain": [
       "(584137, 110)"
      ]
     },
     "execution_count": 12,
     "metadata": {},
     "output_type": "execute_result"
    }
   ],
   "source": [
    "xp_train.shape"
   ]
  },
  {
   "cell_type": "code",
   "execution_count": 13,
   "id": "58887ba8-9ef9-4bb7-a33a-0d46c6470f95",
   "metadata": {},
   "outputs": [
    {
     "name": "stdout",
     "output_type": "stream",
     "text": [
      "<HDF5 group \"/\" (3 members)>\n",
      "<HDF5 group \"/group_1\" (6 members)>\n",
      "<HDF5 group \"/group_2\" (6 members)>\n",
      "<HDF5 dataset \"theta\": shape (3, 584137), type \"<f4\">\n",
      "<HDF5 dataset \"bprp\": shape (110, 64905), type \"<f8\">\n",
      "<HDF5 dataset \"e_bprp\": shape (110, 72116), type \"<f4\">\n",
      "<HDF5 dataset \"mags\": shape (4, 584137), type \"<f4\">\n",
      "<HDF5 dataset \"ext\": shape (64905,), type \"<f4\">\n"
     ]
    }
   ],
   "source": [
    "# Create a HDF5 file\n",
    "hierarchicalFileName  = \"/arc/home/aydanmckay/mae_tab/scale_lamost_pristine_bprp_gmag.h5\"\n",
    "with h5py.File(hierarchicalFileName, 'w') as hierarchicalFile:\n",
    "    # Create a group under root\n",
    "    \n",
    "    train = hierarchicalFile.create_group(\"group_1\")\n",
    "    valid = hierarchicalFile.create_group(\"group_2\")\n",
    "    test = hierarchicalFile.create_group(\"group_3\")\n",
    "    \n",
    "    train['theta'] = np.array(\n",
    "        [feh_train,\n",
    "         logg_train,\n",
    "         teff_train\n",
    "        ]\n",
    "    )\n",
    "    valid['theta'] = np.array(\n",
    "        [feh_valid,\n",
    "         logg_valid,\n",
    "         teff_valid\n",
    "        ]\n",
    "    )\n",
    "    test['theta'] = np.array(\n",
    "        [feh_test,\n",
    "         logg_test,\n",
    "         teff_test\n",
    "        ]\n",
    "    )\n",
    "    \n",
    "    train['ext'] = dust_train\n",
    "    valid['ext'] = dust_valid\n",
    "    test['ext'] = dust_test\n",
    "    \n",
    "    train['dist'] = dist_train\n",
    "    valid['dist'] = dist_valid\n",
    "    test['dist'] = dist_test\n",
    "    \n",
    "    train['bprp'] = xp_train.T\n",
    "    train['e_bprp'] = xpe_train.T\n",
    "    valid['bprp'] = xp_valid.T\n",
    "    valid['e_bprp'] = xpe_valid.T\n",
    "    test['bprp'] = xp_test.T\n",
    "    test['e_bprp'] = xpe_test.T\n",
    "    \n",
    "    train['mags'] = mag_train.T\n",
    "    valid['mags'] = mag_valid.T\n",
    "    test['mags'] = mag_test.T\n",
    "\n",
    "    print(hierarchicalFile[\"/\"])\n",
    "    print(train)\n",
    "    print(valid)\n",
    "    print(train['theta'])\n",
    "    print(valid[\"bprp\"])\n",
    "    print(test['e_bprp'])\n",
    "    print(train['mags'])\n",
    "    print(valid['ext'])"
   ]
  },
  {
   "cell_type": "code",
   "execution_count": 15,
   "id": "88e03dc1-ebca-4f1b-bcfd-b5e7df8d014b",
   "metadata": {},
   "outputs": [
    {
     "name": "stdout",
     "output_type": "stream",
     "text": [
      "584137\n",
      "(3, 584137)\n"
     ]
    }
   ],
   "source": [
    "with h5py.File('/arc/home/aydanmckay/mae_tab/scale_lamost_pristine_bprp_gmag.h5', 'r') as f:\n",
    "    d = f['group_2']['bprp']\n",
    "    dn = f['group_2']['mags']\n",
    "    dnset = dn[:]\n",
    "    dset = d[:]\n",
    "    # print(ydat.shape[1])\n",
    "    print(f['group_1']['bprp'].shape[1])\n",
    "    print(f['group_1']['theta'].shape)"
   ]
  },
  {
   "cell_type": "code",
   "execution_count": 16,
   "id": "5472bc6a-ee08-453e-ba98-8faffe8eae79",
   "metadata": {},
   "outputs": [
    {
     "data": {
      "text/plain": [
       "array([[22.069    , 20.851    , 25.115    , ..., 24.971    , 20.991    ,\n",
       "        22.89     ],\n",
       "       [13.831808 , 13.317917 , 16.310322 , ..., 15.463809 , 12.450099 ,\n",
       "        14.9970875],\n",
       "       [14.393    , 13.618    , 16.849    , ..., 16.189    , 12.979    ,\n",
       "        15.382    ],\n",
       "       [13.125    , 12.855    , 15.628    , ..., 14.634    , 11.765    ,\n",
       "        14.441    ]], dtype=float32)"
      ]
     },
     "execution_count": 16,
     "metadata": {},
     "output_type": "execute_result"
    }
   ],
   "source": [
    "dnset"
   ]
  },
  {
   "cell_type": "code",
   "execution_count": 17,
   "id": "e906b63c-a2ad-4e35-a5e1-bcfc6d4d1664",
   "metadata": {},
   "outputs": [
    {
     "data": {
      "text/plain": [
       "(110, 64905)"
      ]
     },
     "execution_count": 17,
     "metadata": {},
     "output_type": "execute_result"
    }
   ],
   "source": [
    "dset.shape"
   ]
  },
  {
   "cell_type": "code",
   "execution_count": 18,
   "id": "039b9980-13b4-47a0-b5f4-39aaa819ab62",
   "metadata": {},
   "outputs": [
    {
     "data": {
      "text/plain": [
       "array([[ 3.25406740e+03,  5.95745562e+03,  3.37177129e+02, ...,\n",
       "         6.46883492e+02,  1.17521946e+04,  1.21837510e+03],\n",
       "       [-7.78948321e+01, -1.13363294e+03, -1.02679945e+01, ...,\n",
       "         4.59923201e+01, -5.72808214e+02, -1.59935907e+02],\n",
       "       [-1.35362988e+02,  2.60289792e+01, -1.32290321e+01, ...,\n",
       "        -3.08167639e+01, -3.80886008e+02, -1.38734809e+01],\n",
       "       ...,\n",
       "       [ 4.31455751e-01, -1.17054175e-02, -4.18924452e-02, ...,\n",
       "         2.05807155e-01, -5.60777770e-01,  1.68940831e-01],\n",
       "       [ 1.17530310e-01,  1.22111720e-01,  4.50366889e-02, ...,\n",
       "        -5.94768075e-02,  2.20296816e-01,  9.63356292e-02],\n",
       "       [ 8.13535474e-02,  2.05653578e-02, -1.03880124e-02, ...,\n",
       "         3.56508402e-03, -6.18395461e-02, -3.95952504e-02]])"
      ]
     },
     "execution_count": 18,
     "metadata": {},
     "output_type": "execute_result"
    }
   ],
   "source": [
    "dset"
   ]
  },
  {
   "cell_type": "code",
   "execution_count": null,
   "id": "c9e5e0f8-a8e6-4f30-8049-0d4056718fb1",
   "metadata": {
    "tags": []
   },
   "outputs": [],
   "source": [
    "ydat"
   ]
  },
  {
   "cell_type": "code",
   "execution_count": null,
   "id": "38acff94-ac70-44cf-9b8b-f1e4cc0b646b",
   "metadata": {},
   "outputs": [],
   "source": [
    "dset.T.shape"
   ]
  },
  {
   "cell_type": "code",
   "execution_count": null,
   "id": "94963d46-b328-4c47-aec8-20fed14ab57b",
   "metadata": {},
   "outputs": [],
   "source": []
  }
 ],
 "metadata": {
  "kernelspec": {
   "display_name": "Python 3 (ipykernel)",
   "language": "python",
   "name": "python3"
  },
  "language_info": {
   "codemirror_mode": {
    "name": "ipython",
    "version": 3
   },
   "file_extension": ".py",
   "mimetype": "text/x-python",
   "name": "python",
   "nbconvert_exporter": "python",
   "pygments_lexer": "ipython3",
   "version": "3.9.16"
  }
 },
 "nbformat": 4,
 "nbformat_minor": 5
}
