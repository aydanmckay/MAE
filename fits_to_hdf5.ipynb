{
 "cells": [
  {
   "cell_type": "markdown",
   "id": "68d6ff70-d455-4f9c-a6c1-d14a8b47c829",
   "metadata": {
    "tags": []
   },
   "source": [
    "### Preparing the data in HDF5 Formatting\n",
    "Switching the .fits file to an HDF5 for better storage management and mainly practice"
   ]
  },
  {
   "cell_type": "markdown",
   "id": "7d43e9cf-061d-42dc-a21c-7e8a119e2e3f",
   "metadata": {
    "tags": []
   },
   "source": [
    "Importing the appropriate packages."
   ]
  },
  {
   "cell_type": "code",
   "execution_count": 10,
   "id": "0f53ab21-e249-4b49-b746-6ad2a5d2d20f",
   "metadata": {},
   "outputs": [],
   "source": [
    "from astropy.table import Table\n",
    "from astropy.io import fits\n",
    "import numpy as np\n",
    "from sklearn.model_selection import train_test_split\n",
    "import pandas as pd\n",
    "import h5py\n",
    "from sklearn.preprocessing import MinMaxScaler"
   ]
  },
  {
   "cell_type": "code",
   "execution_count": 11,
   "id": "8c8c3405-9409-4188-a894-799384ac4ea0",
   "metadata": {},
   "outputs": [],
   "source": [
    "data = Table.read('/arc/home/aydanmckay/mae_tab/bp_rp_apogee_lamost_pristine_concat.fits')\n",
    "names = [name for name in data.colnames if len(data[name].shape) <= 1]\n",
    "data = data[names].to_pandas()"
   ]
  },
  {
   "cell_type": "code",
   "execution_count": 12,
   "id": "e4366815-6ab9-4b24-a20d-57cf99b87c00",
   "metadata": {},
   "outputs": [
    {
     "data": {
      "text/plain": [
       "(1339266, 231)"
      ]
     },
     "execution_count": 12,
     "metadata": {},
     "output_type": "execute_result"
    }
   ],
   "source": [
    "data.shape"
   ]
  },
  {
   "cell_type": "code",
   "execution_count": 13,
   "id": "a8e900f1-909f-406d-870e-6266bdd8df3e",
   "metadata": {},
   "outputs": [
    {
     "data": {
      "text/html": [
       "<div>\n",
       "<style scoped>\n",
       "    .dataframe tbody tr th:only-of-type {\n",
       "        vertical-align: middle;\n",
       "    }\n",
       "\n",
       "    .dataframe tbody tr th {\n",
       "        vertical-align: top;\n",
       "    }\n",
       "\n",
       "    .dataframe thead th {\n",
       "        text-align: right;\n",
       "    }\n",
       "</style>\n",
       "<table border=\"1\" class=\"dataframe\">\n",
       "  <thead>\n",
       "    <tr style=\"text-align: right;\">\n",
       "      <th></th>\n",
       "      <th>ra</th>\n",
       "      <th>dec</th>\n",
       "      <th>gmag</th>\n",
       "      <th>bpmag</th>\n",
       "      <th>rpmag</th>\n",
       "      <th>cahk</th>\n",
       "      <th>ext</th>\n",
       "      <th>feh</th>\n",
       "      <th>afe</th>\n",
       "      <th>logg</th>\n",
       "      <th>...</th>\n",
       "      <th>rpe_46</th>\n",
       "      <th>rpe_47</th>\n",
       "      <th>rpe_48</th>\n",
       "      <th>rpe_49</th>\n",
       "      <th>rpe_50</th>\n",
       "      <th>rpe_51</th>\n",
       "      <th>rpe_52</th>\n",
       "      <th>rpe_53</th>\n",
       "      <th>rpe_54</th>\n",
       "      <th>rpe_55</th>\n",
       "    </tr>\n",
       "  </thead>\n",
       "  <tbody>\n",
       "    <tr>\n",
       "      <th>count</th>\n",
       "      <td>642528.000000</td>\n",
       "      <td>642528.000000</td>\n",
       "      <td>642528.000000</td>\n",
       "      <td>1339266.0</td>\n",
       "      <td>1339266.0</td>\n",
       "      <td>1339266.0</td>\n",
       "      <td>535928.000000</td>\n",
       "      <td>572305.000000</td>\n",
       "      <td>572028.000000</td>\n",
       "      <td>608715.000000</td>\n",
       "      <td>...</td>\n",
       "      <td>642528.000000</td>\n",
       "      <td>642528.000000</td>\n",
       "      <td>642528.000000</td>\n",
       "      <td>642528.000000</td>\n",
       "      <td>642528.000000</td>\n",
       "      <td>642528.000000</td>\n",
       "      <td>642528.000000</td>\n",
       "      <td>642528.000000</td>\n",
       "      <td>642528.000000</td>\n",
       "      <td>642528.000000</td>\n",
       "    </tr>\n",
       "    <tr>\n",
       "      <th>mean</th>\n",
       "      <td>175.519527</td>\n",
       "      <td>7.960083</td>\n",
       "      <td>13.210089</td>\n",
       "      <td>0.0</td>\n",
       "      <td>0.0</td>\n",
       "      <td>0.0</td>\n",
       "      <td>0.220363</td>\n",
       "      <td>-0.234039</td>\n",
       "      <td>0.072113</td>\n",
       "      <td>3.094786</td>\n",
       "      <td>...</td>\n",
       "      <td>4.854606</td>\n",
       "      <td>3.789164</td>\n",
       "      <td>3.838116</td>\n",
       "      <td>3.559645</td>\n",
       "      <td>3.601596</td>\n",
       "      <td>3.097129</td>\n",
       "      <td>2.748194</td>\n",
       "      <td>2.496466</td>\n",
       "      <td>1.032495</td>\n",
       "      <td>0.589127</td>\n",
       "    </tr>\n",
       "    <tr>\n",
       "      <th>std</th>\n",
       "      <td>95.943660</td>\n",
       "      <td>41.185402</td>\n",
       "      <td>1.901239</td>\n",
       "      <td>0.0</td>\n",
       "      <td>0.0</td>\n",
       "      <td>0.0</td>\n",
       "      <td>1.075497</td>\n",
       "      <td>0.371967</td>\n",
       "      <td>0.102399</td>\n",
       "      <td>1.222278</td>\n",
       "      <td>...</td>\n",
       "      <td>96.184229</td>\n",
       "      <td>67.500085</td>\n",
       "      <td>71.959214</td>\n",
       "      <td>66.598513</td>\n",
       "      <td>66.852089</td>\n",
       "      <td>54.135091</td>\n",
       "      <td>48.574810</td>\n",
       "      <td>42.640041</td>\n",
       "      <td>16.972028</td>\n",
       "      <td>12.849234</td>\n",
       "    </tr>\n",
       "    <tr>\n",
       "      <th>min</th>\n",
       "      <td>0.000103</td>\n",
       "      <td>-87.224808</td>\n",
       "      <td>2.651680</td>\n",
       "      <td>0.0</td>\n",
       "      <td>0.0</td>\n",
       "      <td>0.0</td>\n",
       "      <td>0.002474</td>\n",
       "      <td>-2.468600</td>\n",
       "      <td>-0.714365</td>\n",
       "      <td>-0.482825</td>\n",
       "      <td>...</td>\n",
       "      <td>0.091793</td>\n",
       "      <td>0.084758</td>\n",
       "      <td>0.064332</td>\n",
       "      <td>0.065701</td>\n",
       "      <td>0.075551</td>\n",
       "      <td>0.055099</td>\n",
       "      <td>0.053387</td>\n",
       "      <td>0.048981</td>\n",
       "      <td>0.023190</td>\n",
       "      <td>0.011225</td>\n",
       "    </tr>\n",
       "    <tr>\n",
       "      <th>25%</th>\n",
       "      <td>89.839767</td>\n",
       "      <td>-23.176965</td>\n",
       "      <td>11.959400</td>\n",
       "      <td>0.0</td>\n",
       "      <td>0.0</td>\n",
       "      <td>0.0</td>\n",
       "      <td>0.029444</td>\n",
       "      <td>-0.404150</td>\n",
       "      <td>0.004917</td>\n",
       "      <td>2.308385</td>\n",
       "      <td>...</td>\n",
       "      <td>0.500238</td>\n",
       "      <td>0.453001</td>\n",
       "      <td>0.441088</td>\n",
       "      <td>0.393016</td>\n",
       "      <td>0.400751</td>\n",
       "      <td>0.367162</td>\n",
       "      <td>0.324858</td>\n",
       "      <td>0.293619</td>\n",
       "      <td>0.110627</td>\n",
       "      <td>0.056413</td>\n",
       "    </tr>\n",
       "    <tr>\n",
       "      <th>50%</th>\n",
       "      <td>178.490082</td>\n",
       "      <td>16.192937</td>\n",
       "      <td>13.144300</td>\n",
       "      <td>0.0</td>\n",
       "      <td>0.0</td>\n",
       "      <td>0.0</td>\n",
       "      <td>0.062410</td>\n",
       "      <td>-0.174640</td>\n",
       "      <td>0.042937</td>\n",
       "      <td>2.995981</td>\n",
       "      <td>...</td>\n",
       "      <td>0.972698</td>\n",
       "      <td>0.823608</td>\n",
       "      <td>0.848126</td>\n",
       "      <td>0.764647</td>\n",
       "      <td>0.757259</td>\n",
       "      <td>0.689114</td>\n",
       "      <td>0.592611</td>\n",
       "      <td>0.531611</td>\n",
       "      <td>0.203665</td>\n",
       "      <td>0.104177</td>\n",
       "    </tr>\n",
       "    <tr>\n",
       "      <th>75%</th>\n",
       "      <td>261.744846</td>\n",
       "      <td>41.740414</td>\n",
       "      <td>14.581500</td>\n",
       "      <td>0.0</td>\n",
       "      <td>0.0</td>\n",
       "      <td>0.0</td>\n",
       "      <td>0.208363</td>\n",
       "      <td>0.009171</td>\n",
       "      <td>0.109349</td>\n",
       "      <td>4.314407</td>\n",
       "      <td>...</td>\n",
       "      <td>2.151097</td>\n",
       "      <td>1.763614</td>\n",
       "      <td>1.771294</td>\n",
       "      <td>1.627090</td>\n",
       "      <td>1.622607</td>\n",
       "      <td>1.431115</td>\n",
       "      <td>1.250225</td>\n",
       "      <td>1.124677</td>\n",
       "      <td>0.462224</td>\n",
       "      <td>0.240940</td>\n",
       "    </tr>\n",
       "    <tr>\n",
       "      <th>max</th>\n",
       "      <td>359.999181</td>\n",
       "      <td>87.608246</td>\n",
       "      <td>20.164499</td>\n",
       "      <td>0.0</td>\n",
       "      <td>0.0</td>\n",
       "      <td>0.0</td>\n",
       "      <td>62.374294</td>\n",
       "      <td>0.957890</td>\n",
       "      <td>0.992785</td>\n",
       "      <td>5.370551</td>\n",
       "      <td>...</td>\n",
       "      <td>44037.816406</td>\n",
       "      <td>31293.429688</td>\n",
       "      <td>33479.109375</td>\n",
       "      <td>28020.875000</td>\n",
       "      <td>29163.664062</td>\n",
       "      <td>23545.835938</td>\n",
       "      <td>22205.037109</td>\n",
       "      <td>19124.441406</td>\n",
       "      <td>7081.585449</td>\n",
       "      <td>5876.122559</td>\n",
       "    </tr>\n",
       "  </tbody>\n",
       "</table>\n",
       "<p>8 rows × 231 columns</p>\n",
       "</div>"
      ],
      "text/plain": [
       "                  ra            dec           gmag      bpmag      rpmag  \\\n",
       "count  642528.000000  642528.000000  642528.000000  1339266.0  1339266.0   \n",
       "mean      175.519527       7.960083      13.210089        0.0        0.0   \n",
       "std        95.943660      41.185402       1.901239        0.0        0.0   \n",
       "min         0.000103     -87.224808       2.651680        0.0        0.0   \n",
       "25%        89.839767     -23.176965      11.959400        0.0        0.0   \n",
       "50%       178.490082      16.192937      13.144300        0.0        0.0   \n",
       "75%       261.744846      41.740414      14.581500        0.0        0.0   \n",
       "max       359.999181      87.608246      20.164499        0.0        0.0   \n",
       "\n",
       "            cahk            ext            feh            afe           logg  \\\n",
       "count  1339266.0  535928.000000  572305.000000  572028.000000  608715.000000   \n",
       "mean         0.0       0.220363      -0.234039       0.072113       3.094786   \n",
       "std          0.0       1.075497       0.371967       0.102399       1.222278   \n",
       "min          0.0       0.002474      -2.468600      -0.714365      -0.482825   \n",
       "25%          0.0       0.029444      -0.404150       0.004917       2.308385   \n",
       "50%          0.0       0.062410      -0.174640       0.042937       2.995981   \n",
       "75%          0.0       0.208363       0.009171       0.109349       4.314407   \n",
       "max          0.0      62.374294       0.957890       0.992785       5.370551   \n",
       "\n",
       "       ...         rpe_46         rpe_47         rpe_48         rpe_49  \\\n",
       "count  ...  642528.000000  642528.000000  642528.000000  642528.000000   \n",
       "mean   ...       4.854606       3.789164       3.838116       3.559645   \n",
       "std    ...      96.184229      67.500085      71.959214      66.598513   \n",
       "min    ...       0.091793       0.084758       0.064332       0.065701   \n",
       "25%    ...       0.500238       0.453001       0.441088       0.393016   \n",
       "50%    ...       0.972698       0.823608       0.848126       0.764647   \n",
       "75%    ...       2.151097       1.763614       1.771294       1.627090   \n",
       "max    ...   44037.816406   31293.429688   33479.109375   28020.875000   \n",
       "\n",
       "              rpe_50         rpe_51         rpe_52         rpe_53  \\\n",
       "count  642528.000000  642528.000000  642528.000000  642528.000000   \n",
       "mean        3.601596       3.097129       2.748194       2.496466   \n",
       "std        66.852089      54.135091      48.574810      42.640041   \n",
       "min         0.075551       0.055099       0.053387       0.048981   \n",
       "25%         0.400751       0.367162       0.324858       0.293619   \n",
       "50%         0.757259       0.689114       0.592611       0.531611   \n",
       "75%         1.622607       1.431115       1.250225       1.124677   \n",
       "max     29163.664062   23545.835938   22205.037109   19124.441406   \n",
       "\n",
       "              rpe_54         rpe_55  \n",
       "count  642528.000000  642528.000000  \n",
       "mean        1.032495       0.589127  \n",
       "std        16.972028      12.849234  \n",
       "min         0.023190       0.011225  \n",
       "25%         0.110627       0.056413  \n",
       "50%         0.203665       0.104177  \n",
       "75%         0.462224       0.240940  \n",
       "max      7081.585449    5876.122559  \n",
       "\n",
       "[8 rows x 231 columns]"
      ]
     },
     "execution_count": 13,
     "metadata": {},
     "output_type": "execute_result"
    }
   ],
   "source": [
    "data.describe()"
   ]
  },
  {
   "cell_type": "code",
   "execution_count": 5,
   "id": "517ebfde-2b9a-4007-891b-6977b0044fc6",
   "metadata": {},
   "outputs": [
    {
     "data": {
      "text/plain": [
       "(481813, 231)"
      ]
     },
     "execution_count": 5,
     "metadata": {},
     "output_type": "execute_result"
    }
   ],
   "source": [
    "with pd.option_context('mode.use_inf_as_na', True):\n",
    "    data.dropna(inplace=True)\n",
    "data.shape"
   ]
  },
  {
   "cell_type": "code",
   "execution_count": 6,
   "id": "084de51d-0c5d-4695-a64f-0a1ca2c80f60",
   "metadata": {
    "tags": []
   },
   "outputs": [
    {
     "name": "stdout",
     "output_type": "stream",
     "text": [
      "['ra', 'dec', 'gmag', 'bpmag', 'rpmag', 'cahk', 'ext', 'feh', 'afe', 'logg', 'teff', 'bp_1', 'bp_2', 'bp_3', 'bp_4', 'bp_5', 'bp_6', 'bp_7', 'bp_8', 'bp_9', 'bp_10', 'bp_11', 'bp_12', 'bp_13', 'bp_14', 'bp_15', 'bp_16', 'bp_17', 'bp_18', 'bp_19', 'bp_20', 'bp_21', 'bp_22', 'bp_23', 'bp_24', 'bp_25', 'bp_26', 'bp_27', 'bp_28', 'bp_29', 'bp_30', 'bp_31', 'bp_32', 'bp_33', 'bp_34', 'bp_35', 'bp_36', 'bp_37', 'bp_38', 'bp_39', 'bp_40', 'bp_41', 'bp_42', 'bp_43', 'bp_44', 'bp_45', 'bp_46', 'bp_47', 'bp_48', 'bp_49', 'bp_50', 'bp_51', 'bp_52', 'bp_53', 'bp_54', 'bp_55', 'rp_1', 'rp_2', 'rp_3', 'rp_4', 'rp_5', 'rp_6', 'rp_7', 'rp_8', 'rp_9', 'rp_10', 'rp_11', 'rp_12', 'rp_13', 'rp_14', 'rp_15', 'rp_16', 'rp_17', 'rp_18', 'rp_19', 'rp_20', 'rp_21', 'rp_22', 'rp_23', 'rp_24', 'rp_25', 'rp_26', 'rp_27', 'rp_28', 'rp_29', 'rp_30', 'rp_31', 'rp_32', 'rp_33', 'rp_34', 'rp_35', 'rp_36', 'rp_37', 'rp_38', 'rp_39', 'rp_40', 'rp_41', 'rp_42', 'rp_43', 'rp_44', 'rp_45', 'rp_46', 'rp_47', 'rp_48', 'rp_49', 'rp_50', 'rp_51', 'rp_52', 'rp_53', 'rp_54', 'rp_55', 'bpe_1', 'bpe_2', 'bpe_3', 'bpe_4', 'bpe_5', 'bpe_6', 'bpe_7', 'bpe_8', 'bpe_9', 'bpe_10', 'bpe_11', 'bpe_12', 'bpe_13', 'bpe_14', 'bpe_15', 'bpe_16', 'bpe_17', 'bpe_18', 'bpe_19', 'bpe_20', 'bpe_21', 'bpe_22', 'bpe_23', 'bpe_24', 'bpe_25', 'bpe_26', 'bpe_27', 'bpe_28', 'bpe_29', 'bpe_30', 'bpe_31', 'bpe_32', 'bpe_33', 'bpe_34', 'bpe_35', 'bpe_36', 'bpe_37', 'bpe_38', 'bpe_39', 'bpe_40', 'bpe_41', 'bpe_42', 'bpe_43', 'bpe_44', 'bpe_45', 'bpe_46', 'bpe_47', 'bpe_48', 'bpe_49', 'bpe_50', 'bpe_51', 'bpe_52', 'bpe_53', 'bpe_54', 'bpe_55', 'rpe_1', 'rpe_2', 'rpe_3', 'rpe_4', 'rpe_5', 'rpe_6', 'rpe_7', 'rpe_8', 'rpe_9', 'rpe_10', 'rpe_11', 'rpe_12', 'rpe_13', 'rpe_14', 'rpe_15', 'rpe_16', 'rpe_17', 'rpe_18', 'rpe_19', 'rpe_20', 'rpe_21', 'rpe_22', 'rpe_23', 'rpe_24', 'rpe_25', 'rpe_26', 'rpe_27', 'rpe_28', 'rpe_29', 'rpe_30', 'rpe_31', 'rpe_32', 'rpe_33', 'rpe_34', 'rpe_35', 'rpe_36', 'rpe_37', 'rpe_38', 'rpe_39', 'rpe_40', 'rpe_41', 'rpe_42', 'rpe_43', 'rpe_44', 'rpe_45', 'rpe_46', 'rpe_47', 'rpe_48', 'rpe_49', 'rpe_50', 'rpe_51', 'rpe_52', 'rpe_53', 'rpe_54', 'rpe_55']\n"
     ]
    }
   ],
   "source": [
    "print([dat for dat in data.columns])"
   ]
  },
  {
   "cell_type": "code",
   "execution_count": 7,
   "id": "6c45ecbd-b1a2-46fa-be18-ff47ad2c8466",
   "metadata": {},
   "outputs": [],
   "source": [
    "labels = [\"bp_1\", \"bp_2\", \"bp_3\", \"bp_4\", \"bp_5\", \"bp_6\", \"bp_7\",\n",
    "          \"bp_8\", \"bp_9\", \"bp_10\", \"bp_11\", \"bp_12\", \"bp_13\", \"bp_14\",\n",
    "          \"bp_15\", \"bp_16\", \"bp_17\", \"bp_18\", \"bp_19\", \"bp_20\", \"bp_21\",\n",
    "          \"bp_22\", \"bp_23\", \"bp_24\", \"bp_25\", \"bp_26\", \"bp_27\", \"bp_28\",\n",
    "          \"bp_29\", \"bp_30\", \"bp_31\", \"bp_32\", \"bp_33\", \"bp_34\", \"bp_35\",\n",
    "          \"bp_36\", \"bp_37\", \"bp_38\", \"bp_39\", \"bp_40\", \"bp_41\", \"bp_42\",\n",
    "          \"bp_43\", \"bp_44\", \"bp_45\", \"bp_46\", \"bp_47\", \"bp_48\", \"bp_49\",\n",
    "          \"bp_50\", \"bp_51\", \"bp_52\", \"bp_53\", \"bp_54\", \"bp_55\", \"rp_1\",\n",
    "          \"rp_2\", \"rp_3\", \"rp_4\", \"rp_5\", \"rp_6\", \"rp_7\", \"rp_8\",\n",
    "          \"rp_9\", \"rp_10\", \"rp_11\", \"rp_12\", \"rp_13\", \"rp_14\", \"rp_15\",\n",
    "          \"rp_16\", \"rp_17\", \"rp_18\", \"rp_19\", \"rp_20\", \"rp_21\", \"rp_22\",\n",
    "          \"rp_23\", \"rp_24\", \"rp_25\", \"rp_26\", \"rp_27\", \"rp_28\", \"rp_29\",\n",
    "          \"rp_30\", \"rp_31\", \"rp_32\", \"rp_33\", \"rp_34\", \"rp_35\", \"rp_36\",\n",
    "          \"rp_37\", \"rp_38\", \"rp_39\", \"rp_40\", \"rp_41\", \"rp_42\", \"rp_43\",\n",
    "          \"rp_44\", \"rp_45\", \"rp_46\", \"rp_47\", \"rp_48\", \"rp_49\", \"rp_50\",\n",
    "          \"rp_51\", \"rp_52\", \"rp_53\", \"rp_54\", \"rp_55\"]\n",
    "elabels = [\"bpe_1\", \"bpe_2\", \"bpe_3\", \"bpe_4\", \"bpe_5\", \"bpe_6\", \"bpe_7\",\n",
    "          \"bpe_8\", \"bpe_9\", \"bpe_10\", \"bpe_11\", \"bpe_12\", \"bpe_13\", \"bpe_14\",\n",
    "          \"bpe_15\", \"bpe_16\", \"bpe_17\", \"bpe_18\", \"bpe_19\", \"bpe_20\", \"bpe_21\",\n",
    "          \"bpe_22\", \"bpe_23\", \"bpe_24\", \"bpe_25\", \"bpe_26\", \"bpe_27\", \"bpe_28\",\n",
    "          \"bpe_29\", \"bpe_30\", \"bpe_31\", \"bpe_32\", \"bpe_33\", \"bpe_34\", \"bpe_35\",\n",
    "          \"bpe_36\", \"bpe_37\", \"bpe_38\", \"bpe_39\", \"bpe_40\", \"bpe_41\", \"bpe_42\",\n",
    "          \"bpe_43\", \"bpe_44\", \"bpe_45\", \"bpe_46\", \"bpe_47\", \"bpe_48\", \"bpe_49\",\n",
    "          \"bpe_50\", \"bpe_51\", \"bpe_52\", \"bpe_53\", \"bpe_54\", \"bpe_55\", \"rpe_1\",\n",
    "          \"rpe_2\", \"rpe_3\", \"rpe_4\", \"rpe_5\", \"rpe_6\", \"rpe_7\", \"rpe_8\",\n",
    "          \"rpe_9\", \"rpe_10\", \"rpe_11\", \"rpe_12\", \"rpe_13\", \"rpe_14\", \"rpe_15\",\n",
    "          \"rpe_16\", \"rpe_17\", \"rpe_18\", \"rpe_19\", \"rpe_20\", \"rpe_21\", \"rpe_22\",\n",
    "          \"rpe_23\", \"rpe_24\", \"rpe_25\", \"rpe_26\", \"rpe_27\", \"rpe_28\", \"rpe_29\",\n",
    "          \"rpe_30\", \"rpe_31\", \"rpe_32\", \"rpe_33\", \"rpe_34\", \"rpe_35\", \"rpe_36\",\n",
    "          \"rpe_37\", \"rpe_38\", \"rpe_39\", \"rpe_40\", \"rpe_41\", \"rpe_42\", \"rpe_43\",\n",
    "          \"rpe_44\", \"rpe_45\", \"rpe_46\", \"rpe_47\", \"rpe_48\", \"rpe_49\", \"rpe_50\",\n",
    "          \"rpe_51\", \"rpe_52\", \"rpe_53\", \"rpe_54\", \"rpe_55\"]"
   ]
  },
  {
   "cell_type": "code",
   "execution_count": 8,
   "id": "1c2ddcb4-ad41-425c-9852-f1a7d7145d36",
   "metadata": {},
   "outputs": [
    {
     "ename": "SyntaxError",
     "evalue": "invalid syntax (3285507013.py, line 1)",
     "output_type": "error",
     "traceback": [
      "\u001b[0;36m  Cell \u001b[0;32mIn[8], line 1\u001b[0;36m\u001b[0m\n\u001b[0;31m    gmag       n/a    float64  n/a\u001b[0m\n\u001b[0m               ^\u001b[0m\n\u001b[0;31mSyntaxError\u001b[0m\u001b[0;31m:\u001b[0m invalid syntax\n"
     ]
    }
   ],
   "source": [
    "gmag       n/a    float64  n/a\n",
    "5    bpmag      n/a    float64  n/a\n",
    "6    rpmag      n/a    float64  n/a\n",
    "7    cahk       n/a    float64  n/a\n",
    "8    ext        n/a    float64  n/a\n",
    "9    feh        n/a    float64  n/a\n",
    "10   afe        n/a    float64  n/a\n",
    "11   logg       n/a    float64  n/a\n",
    "12   teff"
   ]
  },
  {
   "cell_type": "code",
   "execution_count": null,
   "id": "39cb2a67-849f-45b9-8204-6677a7369de7",
   "metadata": {},
   "outputs": [],
   "source": [
    "# feh = data['feh'] # lamost\n",
    "# teff = data['teff'] # lamost\n",
    "# logg = data['logg'] # lamost\n",
    "# mag_labels = ['CaHK', 'phot_g_mean_mag', 'BPmag', 'RPmag'] # capital letters are from pristine, Gmag also available\n",
    "# scale = data['phot_g_mean_mag']\n",
    "# mags = np.array([data[label] for label in mag_labels])\n",
    "# dust = data['EBV_1'] # this is pristine, ebv_2 for pre_matched\n",
    "# dist = np.array([np.nan for _ in range(len(data['CaHK']))])\n",
    "feh = data['feh']\n",
    "teff = data['teff']\n",
    "logg = data['logg']\n",
    "mag_labels = ['cahk', 'gmag', 'bpmag', 'rpmag']\n",
    "scale = data['gmag']\n",
    "mags = np.array([data[label] for label in mag_labels])\n",
    "dust = data['ext']\n",
    "dist = np.array([np.nan for _ in range(len(data['cahk']))])\n",
    "xp = []\n",
    "xpe = []\n",
    "for elabel,label in zip(elabels,labels):\n",
    "    xp.append(data[label])\n",
    "    xpe.append(data[elabel])\n",
    "xp = np.array(xp)\n",
    "xpe = np.array(xpe)"
   ]
  },
  {
   "cell_type": "code",
   "execution_count": null,
   "id": "0048ad73-fb96-4189-9d04-00019af2c2fe",
   "metadata": {},
   "outputs": [],
   "source": [
    "xp.T.shape"
   ]
  },
  {
   "cell_type": "code",
   "execution_count": null,
   "id": "fd9a43b0-49e9-432d-b545-458acdebfaf2",
   "metadata": {
    "tags": []
   },
   "outputs": [],
   "source": [
    "np.mean(scale)"
   ]
  },
  {
   "cell_type": "code",
   "execution_count": null,
   "id": "05e4b6e5-51f7-4348-927d-582bf9db1ee2",
   "metadata": {},
   "outputs": [],
   "source": [
    "mag_train, mag_test, feh_train, feh_test, teff_train, \\\n",
    "teff_test, logg_train, logg_test, xp_train, xp_test, \\\n",
    "xpe_train, xpe_test, dust_train, dust_test, dist_train, \\\n",
    "dist_test = train_test_split(\n",
    "    mags.T,\n",
    "    feh,\n",
    "    teff,\n",
    "    logg,\n",
    "    xp.T,\n",
    "    xpe.T,\n",
    "    dust,\n",
    "    # dist,\n",
    "    scale,\n",
    "    test_size=0.1,\n",
    "    random_state=42\n",
    ")"
   ]
  },
  {
   "cell_type": "code",
   "execution_count": null,
   "id": "da3679b7-7c82-4f75-a60f-864bb6988e52",
   "metadata": {},
   "outputs": [],
   "source": [
    "mag_train, mag_valid, feh_train, feh_valid, teff_train, \\\n",
    "teff_valid, logg_train, logg_valid, xp_train, xp_valid, \\\n",
    "xpe_train, xpe_valid, dust_train, dust_valid, dist_train, \\\n",
    "dist_valid = train_test_split(\n",
    "    mag_train,\n",
    "    feh_train,\n",
    "    teff_train,\n",
    "    logg_train,\n",
    "    xp_train,\n",
    "    xpe_train,\n",
    "    dust_train,\n",
    "    dist_train,\n",
    "    test_size=0.1,\n",
    "    random_state=42\n",
    ")"
   ]
  },
  {
   "cell_type": "code",
   "execution_count": null,
   "id": "5b1259b8-17ee-4992-98a6-386104c509fc",
   "metadata": {},
   "outputs": [],
   "source": [
    "xp_train.shape"
   ]
  },
  {
   "cell_type": "code",
   "execution_count": null,
   "id": "58887ba8-9ef9-4bb7-a33a-0d46c6470f95",
   "metadata": {},
   "outputs": [],
   "source": [
    "# Create a HDF5 file\n",
    "hierarchicalFileName  = \"/arc/home/aydanmckay/mae_tab/scale_lamost_apogee_pristine_bprp_gmag.h5\"\n",
    "with h5py.File(hierarchicalFileName, 'w') as hierarchicalFile:\n",
    "    # Create a group under root\n",
    "    \n",
    "    train = hierarchicalFile.create_group(\"group_1\")\n",
    "    valid = hierarchicalFile.create_group(\"group_2\")\n",
    "    test = hierarchicalFile.create_group(\"group_3\")\n",
    "    \n",
    "    train['theta'] = np.array(\n",
    "        [feh_train,\n",
    "         logg_train,\n",
    "         teff_train\n",
    "        ]\n",
    "    )\n",
    "    valid['theta'] = np.array(\n",
    "        [feh_valid,\n",
    "         logg_valid,\n",
    "         teff_valid\n",
    "        ]\n",
    "    )\n",
    "    test['theta'] = np.array(\n",
    "        [feh_test,\n",
    "         logg_test,\n",
    "         teff_test\n",
    "        ]\n",
    "    )\n",
    "    \n",
    "    train['ext'] = dust_train\n",
    "    valid['ext'] = dust_valid\n",
    "    test['ext'] = dust_test\n",
    "    \n",
    "    train['dist'] = dist_train\n",
    "    valid['dist'] = dist_valid\n",
    "    test['dist'] = dist_test\n",
    "    \n",
    "    train['bprp'] = xp_train.T\n",
    "    train['e_bprp'] = xpe_train.T\n",
    "    valid['bprp'] = xp_valid.T\n",
    "    valid['e_bprp'] = xpe_valid.T\n",
    "    test['bprp'] = xp_test.T\n",
    "    test['e_bprp'] = xpe_test.T\n",
    "    \n",
    "    train['mags'] = mag_train.T\n",
    "    valid['mags'] = mag_valid.T\n",
    "    test['mags'] = mag_test.T\n",
    "\n",
    "    print(hierarchicalFile[\"/\"])\n",
    "    print(train)\n",
    "    print(valid)\n",
    "    print(train['theta'])\n",
    "    print(valid[\"bprp\"])\n",
    "    print(test['e_bprp'])\n",
    "    print(train['mags'])\n",
    "    print(valid['ext'])"
   ]
  },
  {
   "cell_type": "code",
   "execution_count": null,
   "id": "88e03dc1-ebca-4f1b-bcfd-b5e7df8d014b",
   "metadata": {},
   "outputs": [],
   "source": [
    "with h5py.File('/arc/home/aydanmckay/mae_tab/scale_lamost_apogee_pristine_bprp_gmag.h5', 'r') as f:\n",
    "    d = f['group_2']['bprp']\n",
    "    dn = f['group_2']['mags']\n",
    "    dnset = dn[:]\n",
    "    dset = d[:]\n",
    "    # print(ydat.shape[1])\n",
    "    print(f['group_1']['bprp'].shape[1])\n",
    "    print(f['group_1']['theta'].shape)"
   ]
  },
  {
   "cell_type": "code",
   "execution_count": null,
   "id": "5472bc6a-ee08-453e-ba98-8faffe8eae79",
   "metadata": {},
   "outputs": [],
   "source": [
    "dnset"
   ]
  },
  {
   "cell_type": "code",
   "execution_count": null,
   "id": "e906b63c-a2ad-4e35-a5e1-bcfc6d4d1664",
   "metadata": {},
   "outputs": [],
   "source": [
    "dset.shape"
   ]
  },
  {
   "cell_type": "code",
   "execution_count": null,
   "id": "039b9980-13b4-47a0-b5f4-39aaa819ab62",
   "metadata": {},
   "outputs": [],
   "source": [
    "dset"
   ]
  },
  {
   "cell_type": "code",
   "execution_count": null,
   "id": "c9e5e0f8-a8e6-4f30-8049-0d4056718fb1",
   "metadata": {
    "tags": []
   },
   "outputs": [],
   "source": [
    "ydat"
   ]
  },
  {
   "cell_type": "code",
   "execution_count": null,
   "id": "38acff94-ac70-44cf-9b8b-f1e4cc0b646b",
   "metadata": {},
   "outputs": [],
   "source": [
    "dset.T.shape"
   ]
  },
  {
   "cell_type": "code",
   "execution_count": null,
   "id": "94963d46-b328-4c47-aec8-20fed14ab57b",
   "metadata": {},
   "outputs": [],
   "source": []
  }
 ],
 "metadata": {
  "kernelspec": {
   "display_name": "Python 3 (ipykernel)",
   "language": "python",
   "name": "python3"
  },
  "language_info": {
   "codemirror_mode": {
    "name": "ipython",
    "version": 3
   },
   "file_extension": ".py",
   "mimetype": "text/x-python",
   "name": "python",
   "nbconvert_exporter": "python",
   "pygments_lexer": "ipython3",
   "version": "3.9.16"
  }
 },
 "nbformat": 4,
 "nbformat_minor": 5
}
